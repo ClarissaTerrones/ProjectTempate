{
 "cells": [
  {
   "cell_type": "markdown",
   "id": "dc157ee2-9652-469d-8624-740aa13cc2e6",
   "metadata": {},
   "source": [
    "# Machine Learning  #"
   ]
  },
  {
   "cell_type": "markdown",
   "id": "f91a510a-24d5-4cf0-8623-b448b5835a07",
   "metadata": {},
   "source": [
    "## Problem Formulation ##\n",
    "\n",
    "* Remove unneed columns, for example:\n",
    "    * duplicated\n",
    "    * categorical features that were turned into one-hot.\n",
    "    * features that identify specific rows, like ID number.\n",
    "    * make sure your target is properly encoded also.\n",
    "* Split training sample into train, validation, and test sub-samples.\n"
   ]
  },
  {
   "cell_type": "code",
   "execution_count": 69,
   "id": "95419d5a-631f-4d7b-afe9-e393f7a669d1",
   "metadata": {},
   "outputs": [],
   "source": [
    "import pandas as pd\n",
    "import numpy as np\n",
    "import matplotlib.pyplot as plt\n",
    "from sklearn.model_selection import train_test_split, cross_val_score, StratifiedKFold\n",
    "from sklearn.preprocessing import StandardScaler, OneHotEncoder\n",
    "from sklearn.ensemble import HistGradientBoostingClassifier\n",
    "from sklearn.metrics import classification_report, accuracy_score, precision_recall_fscore_support, confusion_matrix, roc_curve, auc\n"
   ]
  },
  {
   "cell_type": "code",
   "execution_count": 70,
   "id": "d553dcd0-8365-47c5-904d-a0247c39a03d",
   "metadata": {},
   "outputs": [
    {
     "name": "stdout",
     "output_type": "stream",
     "text": [
      "***** Data loaded successfully *****\n",
      "Train shape: (16000, 10)\n",
      "Test shape: (4000, 10)\n",
      "\n"
     ]
    }
   ],
   "source": [
    "# ----- load data -----\n",
    "try: \n",
    "    train = pd.read_csv(\"proteinas_train.csv\")\n",
    "    test = pd.read_csv(\"proteinas_test.csv\")\n",
    "    \n",
    "    print(\"***** Data loaded successfully *****\")\n",
    "    print(f\"Train shape: {train.shape}\\nTest shape: {test.shape}\\n\")\n",
    "\n",
    "    # Vertify critical columns exist\n",
    "    required_cols = ['Massa_Molecular', 'Ponto_Isoelétrico', 'Classe']\n",
    "    assert all(col in train.columns for col in required_cols), \"Missing required columns\"\n",
    "except Exception as e:\n",
    "    print(f\"Loading Failed: {str(e)}\")"
   ]
  },
  {
   "cell_type": "code",
   "execution_count": 71,
   "id": "2b685a6f-f757-446c-8936-1b4eed37e752",
   "metadata": {},
   "outputs": [
    {
     "name": "stdout",
     "output_type": "stream",
     "text": [
      "----- Initial Data Inspection (Train)-----\n",
      "    ID_Proteína                                          Sequência  \\\n",
      "0  TRAIN_P00001  GNMRFVLHDEETHWGTLRTTLNCVPSDIYTISGEDSLFWGMAHPFC...   \n",
      "1  TRAIN_P00002  LFKMQCSFYLLYLAKEAASYQVSMNMLCYEWYNYVYQVTVILRLSR...   \n",
      "2  TRAIN_P00003  PAHLWPYWRFYVWIVFYGYHNPNYHFGMKEVKERPDCKNCTVAVLF...   \n",
      "3  TRAIN_P00004  GEAFSRPHCFACAATKKGFPWARMCCTTSMAMDGVQSKMHKSKHRF...   \n",
      "4  TRAIN_P00005  HYVFQGLMLHCGGYMITACGFGVIFPEQMTREGLIMHTARAHHFLI...   \n",
      "\n",
      "   Massa_Molecular  Ponto_Isoelétrico  Hidrofobicidade  Carga_Total  \\\n",
      "0       20362.9468           4.866123         0.149425           -3   \n",
      "1        9328.7909           6.298636         0.217105            0   \n",
      "2       17616.3852           8.458977         0.192568            8   \n",
      "3       35244.2968           8.448340         0.160473           21   \n",
      "4       34557.9931           7.696306         0.140411           18   \n",
      "\n",
      "   Proporção_Polar  Proporção_Apolar  Comprimento_Sequência      Classe  \n",
      "0         0.241379          0.408046                    174  Estrutural  \n",
      "1         0.210526          0.513158                     76  Estrutural  \n",
      "2         0.141892          0.466216                    148  Estrutural  \n",
      "3         0.189189          0.408784                    296  Estrutural  \n",
      "4         0.202055          0.380137                    292   Receptora  \n",
      "----- Initial Data Inspection (Test)-----\n",
      "   ID_Proteína                                          Sequência  \\\n",
      "0  TEST_P00001  QWPPEVSNGFQSEGKCRWWFIMDPEKPRFHAHAAFHMPDVFRVHYP...   \n",
      "1  TEST_P00002  DQGPKNYEYTRQLPCNCCEIMCCDKTNQKSDEVQAAGMTCDKFQHK...   \n",
      "2  TEST_P00003  CMAPAVKGESGANKECRPCQDWLYTAPGGMCDICSSTVCCYNYAYE...   \n",
      "3  TEST_P00004  KKKHPHILFTFGTMQWIVVKRHAVLMSKVFWRMERQWVNIHYSCDE...   \n",
      "4  TEST_P00005  LMKTRNLLWRGYWWQSPGNLYTFHCDLVCHRFMAPVNFHRECFRTE...   \n",
      "\n",
      "   Massa_Molecular  Ponto_Isoelétrico  Hidrofobicidade  Carga_Total  \\\n",
      "0       32373.5883           8.466520         0.143657           20   \n",
      "1       16404.3504           6.558333         0.095070            4   \n",
      "2       19611.2902           7.084207         0.137725            6   \n",
      "3       23563.3112           8.716335         0.194301           14   \n",
      "4       19124.5587           8.398828         0.161491           12   \n",
      "\n",
      "   Proporção_Polar  Proporção_Apolar  Comprimento_Sequência      Classe  \n",
      "0         0.167910          0.388060                    268   Receptora  \n",
      "1         0.225352          0.323944                    142      Enzima  \n",
      "2         0.209581          0.377246                    167      Enzima  \n",
      "3         0.181347          0.461140                    193  Estrutural  \n",
      "4         0.285714          0.385093                    161  Estrutural  \n"
     ]
    }
   ],
   "source": [
    "# ----- Initial data inspection -----\n",
    "print(\"----- Initial Data Inspection (Train)-----\")\n",
    "print(train.head())\n",
    "\n",
    "print(\"----- Initial Data Inspection (Test)-----\")\n",
    "print(test.head())"
   ]
  },
  {
   "cell_type": "code",
   "execution_count": 72,
   "id": "bc7fcc3d-4648-446a-8848-19c34ddac02b",
   "metadata": {},
   "outputs": [],
   "source": [
    "# ----- Define Features -----\n",
    "numerical_features = ['Massa_Molecular', 'Ponto_Isoelétrico', 'Hidrofobicidade', 'Carga_Total', \n",
    "                'Proporção_Polar', 'Proporção_Apolar', 'Comprimento_Sequência']\n",
    "\n",
    "categorical_features = ['ID_Proteína', 'Sequência']\n",
    "target_feature = 'Classe'"
   ]
  },
  {
   "cell_type": "code",
   "execution_count": 73,
   "id": "19dbc414-901c-43e0-9002-2f9125a81c95",
   "metadata": {},
   "outputs": [],
   "source": [
    "# Feature engineering amino acidc compostion features\n",
    "def calc_aa_features(sequence):\n",
    "    \"\"\" Calculate various amino acids from sequnces \"\"\"\n",
    "    if pd.isna(sequence):\n",
    "        return pd.Series([np.nan]*6)\n",
    "        \n",
    "    aa_counts = pd.Series(list(sequence)).value_counts(normalize=True)\n",
    "    return pd.Series({\n",
    "        'Hydrophobic_AA': aa_counts.reindex(['A','V','L','I','P','F','W','M'], fill_value=0).sum(),\n",
    "        'Charged_AA': aa_counts.reindex(['R','H','K','D','E'], fill_value=0).sum(),\n",
    "        'Polar_AA': aa_counts.reindex(['N','C','Q','S','T','Y'], fill_value=0).sum(),\n",
    "        'Small_AA': aa_counts.reindex(['A','G','S','T'], fill_value=0).sum(),\n",
    "        'Aromatic_AA': aa_counts.reindex(['F','W','Y','H'], fill_value=0).sum(),\n",
    "        'Proline_Content': aa_counts.get('P', 0)}) "
   ]
  },
  {
   "cell_type": "code",
   "execution_count": 74,
   "id": "d83f633f-d602-4cf8-af96-78067251939c",
   "metadata": {},
   "outputs": [],
   "source": [
    "train_aa_features = train['Sequência'].apply(calc_aa_features)\n",
    "test_aa_features = test['Sequência'].apply(calc_aa_features)\n",
    "\n",
    "# adding to existing DataFrame\n",
    "train = pd.concat([train, train_aa_features], axis=1)\n",
    "test = pd.concat([test, test_aa_features], axis=1)\n",
    "\n",
    "numerical_features.extend(['Hydrophobic_AA', 'Charged_AA', 'Polar_AA', \n",
    "                   'Small_AA', 'Aromatic_AA', 'Proline_Content'])"
   ]
  },
  {
   "cell_type": "code",
   "execution_count": 75,
   "id": "ffc0b42d-d524-4301-befb-b35b179dc96c",
   "metadata": {},
   "outputs": [],
   "source": [
    "from sklearn.impute import SimpleImputer\n",
    "# ------ Data Cleaning ------\n",
    "# Handles missing values- using median for imputation.\n",
    "imputer =  SimpleImputer(strategy='median')\n",
    "train[numerical_features] = imputer.fit_transform(train[numerical_features])\n",
    "test[numerical_features] = imputer.transform(test[numerical_features])"
   ]
  },
  {
   "cell_type": "code",
   "execution_count": 76,
   "id": "028cf956-4ef9-4f29-a511-a88979f73dbd",
   "metadata": {
    "scrolled": true
   },
   "outputs": [
    {
     "name": "stdout",
     "output_type": "stream",
     "text": [
      "Mismatched sequence lengths: Train=0,Test=0\n"
     ]
    }
   ],
   "source": [
    "#----- Validate sequence lengths match Comprimento_Sequência -----\n",
    "train['Seq_length_check'] = train['Sequência'].str.len() == train['Comprimento_Sequência']\n",
    "test['Seq_length_check'] = test['Sequência'].str.len() == test['Comprimento_Sequência']\n",
    "\n",
    "print(f\"Mismatched sequence lengths: Train={(train['Seq_length_check'] == False).sum()},Test={(test['Seq_length_check']== False).sum()}\") # # Check for sequence length inconsistencies "
   ]
  },
  {
   "cell_type": "code",
   "execution_count": 77,
   "id": "4801490b-3a81-4db2-b7fc-0e16a6e6db1b",
   "metadata": {},
   "outputs": [],
   "source": [
    "# Removing temporary column\n",
    "train.drop('Seq_length_check', axis=1, inplace = True)\n",
    "test.drop('Seq_length_check', axis=1, inplace = True)"
   ]
  },
  {
   "cell_type": "code",
   "execution_count": 78,
   "id": "3944f34c-cf42-408c-9564-746477c46d27",
   "metadata": {},
   "outputs": [],
   "source": [
    "# Dropping unnecessary columns\n",
    "train = train.drop(['ID_Proteína', 'Sequência'], axis=1) # drop ID from original sequence \n",
    "test = test.drop(['ID_Proteína', 'Sequência'], axis=1) # drop ID from original sequence "
   ]
  },
  {
   "cell_type": "code",
   "execution_count": 79,
   "id": "f129ffc8-a4a8-4b15-a5ca-e50483e4eccc",
   "metadata": {},
   "outputs": [],
   "source": [
    "# Feature Scaling\n",
    "scaler = StandardScaler()\n",
    "train[numerical_features] = scaler.fit_transform(train[numerical_features])\n",
    "test[numerical_features] = scaler.transform(test[numerical_features])"
   ]
  },
  {
   "cell_type": "code",
   "execution_count": 80,
   "id": "f38cc792-4098-4eb0-ae4f-d4e8e32e008b",
   "metadata": {},
   "outputs": [
    {
     "name": "stdout",
     "output_type": "stream",
     "text": [
      "\n",
      "--- Processed Train Data (First 5 rows) ---\n",
      "   Massa_Molecular  Ponto_Isoelétrico  Hidrofobicidade  Carga_Total  \\\n",
      "0        -0.039785          -1.663031        -0.020281    -1.556178   \n",
      "1        -1.311270          -0.673868         2.442265    -1.158177   \n",
      "2        -0.356276           0.817866         1.549457    -0.096839   \n",
      "3         1.675018           0.810521         0.381691     1.627835   \n",
      "4         1.595934           0.291235        -0.348269     1.229834   \n",
      "\n",
      "   Proporção_Polar  Proporção_Apolar  Comprimento_Sequência      Classe  \\\n",
      "0         1.213878          0.192362              -0.000462  Estrutural   \n",
      "1         0.303072          2.683715              -1.344437  Estrutural   \n",
      "2        -1.723074          1.571107              -0.357027  Estrutural   \n",
      "3        -0.326818          0.209849               1.672650  Estrutural   \n",
      "4         0.052986         -0.469135               1.617794   Receptora   \n",
      "\n",
      "   Hydrophobic_AA  Charged_AA  Polar_AA  Small_AA  Aromatic_AA  \\\n",
      "0        0.332970   -1.322327  0.710588  1.896617    -0.301251   \n",
      "1        0.191563   -2.488032  3.452416 -0.461775     0.701377   \n",
      "2        2.237705   -0.916280 -1.110780 -0.911686     0.481341   \n",
      "3        0.293870   -0.096860 -0.068287  0.976892     0.779961   \n",
      "4       -0.884413    0.271068 -0.051626  0.667803     0.366801   \n",
      "\n",
      "   Proline_Content  \n",
      "0        -0.207425  \n",
      "1        -1.990011  \n",
      "2         1.699269  \n",
      "3        -0.319211  \n",
      "4        -0.658557  \n",
      "\n",
      "--- Processed Test Data (First 5 rows) ---\n",
      "   Massa_Molecular  Ponto_Isoelétrico  Hidrofobicidade  Carga_Total  \\\n",
      "0         1.344221           0.823075        -0.230171     1.495168   \n",
      "1        -0.495941          -0.494545        -1.997991    -0.627508   \n",
      "2        -0.126400          -0.131424        -0.446014    -0.362173   \n",
      "3         0.328998           0.995574         1.612511     0.699165   \n",
      "4        -0.182487           0.776333         0.418720     0.433830   \n",
      "\n",
      "   Proporção_Polar  Proporção_Apolar  Comprimento_Sequência      Classe  \\\n",
      "0        -0.954984         -0.281351               1.288657   Receptora   \n",
      "1         0.740742         -1.801024              -0.439311      Enzima   \n",
      "2         0.275161         -0.537668              -0.096460      Enzima   \n",
      "3        -0.558321          1.450789               0.260105  Estrutural   \n",
      "4         2.522684         -0.351664              -0.178744  Estrutural   \n",
      "\n",
      "   Hydrophobic_AA  Charged_AA  Polar_AA  Small_AA  Aromatic_AA  \\\n",
      "0       -0.552326    0.698099 -0.804775 -0.392438     0.597223   \n",
      "1       -1.989908    1.227804  0.798011  0.541497    -1.946877   \n",
      "2       -1.691674   -0.288221  1.987569 -0.067688    -0.596315   \n",
      "3        1.468061   -0.878540 -0.518414 -1.003360     1.285913   \n",
      "4       -0.503987   -1.386781  2.349090  1.062709     0.332958   \n",
      "\n",
      "   Proline_Content  \n",
      "0         0.132687  \n",
      "1        -0.792171  \n",
      "2        -0.427992  \n",
      "3         0.109585  \n",
      "4        -0.343146  \n"
     ]
    }
   ],
   "source": [
    "# Display Processed Data\n",
    "print(\"\\n--- Processed Train Data (First 5 rows) ---\")\n",
    "print(train.head())\n",
    "\n",
    "print(\"\\n--- Processed Test Data (First 5 rows) ---\")\n",
    "print(test.head())"
   ]
  },
  {
   "cell_type": "code",
   "execution_count": 81,
   "id": "79b97755-ac66-4251-8a73-618e741cd930",
   "metadata": {},
   "outputs": [
    {
     "name": "stdout",
     "output_type": "stream",
     "text": [
      "Train set size: 9600\n",
      "Validation set size: 3200\n",
      "Test set size: 3200\n"
     ]
    }
   ],
   "source": [
    "# Split Data Training\n",
    "x = train.drop(target_feature, axis=1)\n",
    "y = train[target_feature]\n",
    "\n",
    "# first split train into 60% and temp 40%\n",
    "X_train, X_temp, y_train, y_temp = train_test_split(\n",
    "    x, y, test_size=0.4, random_state=42, stratify=y\n",
    ")\n",
    "\n",
    "# then split 40% temp into 20% validation and 20% test\n",
    "X_val, X_test, y_val, y_test = train_test_split(\n",
    "    X_temp, y_temp, test_size=0.5, random_state=42, stratify=y_temp\n",
    ")\n",
    "\n",
    "print(f\"Train set size: {X_train.shape[0]}\")\n",
    "print(f\"Validation set size: {X_val.shape[0]}\")\n",
    "print(f\"Test set size: {X_test.shape[0]}\")"
   ]
  },
  {
   "cell_type": "markdown",
   "id": "7403939c-f5f3-4a1e-873d-7e90eacb70c7",
   "metadata": {},
   "source": [
    "## Train ML Algorithm ##"
   ]
  },
  {
   "cell_type": "code",
   "execution_count": 82,
   "id": "0e7fc2ac-4e4c-4f23-b704-3eb4bce42428",
   "metadata": {},
   "outputs": [],
   "source": [
    "# Model initialization\n",
    "clf = HistGradientBoostingClassifier(random_state=42)"
   ]
  },
  {
   "cell_type": "code",
   "execution_count": 83,
   "id": "e62a7696-9a06-4111-9c20-16046dd99f4c",
   "metadata": {},
   "outputs": [
    {
     "name": "stdout",
     "output_type": "stream",
     "text": [
      "Feature columns: ['Massa_Molecular', 'Ponto_Isoelétrico', 'Hidrofobicidade', 'Carga_Total', 'Proporção_Polar', 'Proporção_Apolar', 'Comprimento_Sequência', 'Hydrophobic_AA', 'Charged_AA', 'Polar_AA', 'Small_AA', 'Aromatic_AA', 'Proline_Content']\n",
      "Non-numeric columns: []\n"
     ]
    }
   ],
   "source": [
    "# feature columns\n",
    "print(\"Feature columns:\", X_train.columns.tolist())\n",
    "\n",
    "# Check for non-numeric columns\n",
    "non_numeric = X_train.select_dtypes(exclude=['number']).columns\n",
    "print(\"Non-numeric columns:\", non_numeric.tolist())\n",
    "\n",
    "# ID columns shouldn't be features:\n",
    "X_train = X_train.select_dtypes(include=['number'])\n",
    "X_test = X_test.select_dtypes(include=['number'])"
   ]
  },
  {
   "cell_type": "code",
   "execution_count": 84,
   "id": "4e887e16-d42a-491a-9422-ada1b11282d1",
   "metadata": {},
   "outputs": [
    {
     "data": {
      "text/html": [
       "<style>#sk-container-id-5 {\n",
       "  /* Definition of color scheme common for light and dark mode */\n",
       "  --sklearn-color-text: #000;\n",
       "  --sklearn-color-text-muted: #666;\n",
       "  --sklearn-color-line: gray;\n",
       "  /* Definition of color scheme for unfitted estimators */\n",
       "  --sklearn-color-unfitted-level-0: #fff5e6;\n",
       "  --sklearn-color-unfitted-level-1: #f6e4d2;\n",
       "  --sklearn-color-unfitted-level-2: #ffe0b3;\n",
       "  --sklearn-color-unfitted-level-3: chocolate;\n",
       "  /* Definition of color scheme for fitted estimators */\n",
       "  --sklearn-color-fitted-level-0: #f0f8ff;\n",
       "  --sklearn-color-fitted-level-1: #d4ebff;\n",
       "  --sklearn-color-fitted-level-2: #b3dbfd;\n",
       "  --sklearn-color-fitted-level-3: cornflowerblue;\n",
       "\n",
       "  /* Specific color for light theme */\n",
       "  --sklearn-color-text-on-default-background: var(--sg-text-color, var(--theme-code-foreground, var(--jp-content-font-color1, black)));\n",
       "  --sklearn-color-background: var(--sg-background-color, var(--theme-background, var(--jp-layout-color0, white)));\n",
       "  --sklearn-color-border-box: var(--sg-text-color, var(--theme-code-foreground, var(--jp-content-font-color1, black)));\n",
       "  --sklearn-color-icon: #696969;\n",
       "\n",
       "  @media (prefers-color-scheme: dark) {\n",
       "    /* Redefinition of color scheme for dark theme */\n",
       "    --sklearn-color-text-on-default-background: var(--sg-text-color, var(--theme-code-foreground, var(--jp-content-font-color1, white)));\n",
       "    --sklearn-color-background: var(--sg-background-color, var(--theme-background, var(--jp-layout-color0, #111)));\n",
       "    --sklearn-color-border-box: var(--sg-text-color, var(--theme-code-foreground, var(--jp-content-font-color1, white)));\n",
       "    --sklearn-color-icon: #878787;\n",
       "  }\n",
       "}\n",
       "\n",
       "#sk-container-id-5 {\n",
       "  color: var(--sklearn-color-text);\n",
       "}\n",
       "\n",
       "#sk-container-id-5 pre {\n",
       "  padding: 0;\n",
       "}\n",
       "\n",
       "#sk-container-id-5 input.sk-hidden--visually {\n",
       "  border: 0;\n",
       "  clip: rect(1px 1px 1px 1px);\n",
       "  clip: rect(1px, 1px, 1px, 1px);\n",
       "  height: 1px;\n",
       "  margin: -1px;\n",
       "  overflow: hidden;\n",
       "  padding: 0;\n",
       "  position: absolute;\n",
       "  width: 1px;\n",
       "}\n",
       "\n",
       "#sk-container-id-5 div.sk-dashed-wrapped {\n",
       "  border: 1px dashed var(--sklearn-color-line);\n",
       "  margin: 0 0.4em 0.5em 0.4em;\n",
       "  box-sizing: border-box;\n",
       "  padding-bottom: 0.4em;\n",
       "  background-color: var(--sklearn-color-background);\n",
       "}\n",
       "\n",
       "#sk-container-id-5 div.sk-container {\n",
       "  /* jupyter's `normalize.less` sets `[hidden] { display: none; }`\n",
       "     but bootstrap.min.css set `[hidden] { display: none !important; }`\n",
       "     so we also need the `!important` here to be able to override the\n",
       "     default hidden behavior on the sphinx rendered scikit-learn.org.\n",
       "     See: https://github.com/scikit-learn/scikit-learn/issues/21755 */\n",
       "  display: inline-block !important;\n",
       "  position: relative;\n",
       "}\n",
       "\n",
       "#sk-container-id-5 div.sk-text-repr-fallback {\n",
       "  display: none;\n",
       "}\n",
       "\n",
       "div.sk-parallel-item,\n",
       "div.sk-serial,\n",
       "div.sk-item {\n",
       "  /* draw centered vertical line to link estimators */\n",
       "  background-image: linear-gradient(var(--sklearn-color-text-on-default-background), var(--sklearn-color-text-on-default-background));\n",
       "  background-size: 2px 100%;\n",
       "  background-repeat: no-repeat;\n",
       "  background-position: center center;\n",
       "}\n",
       "\n",
       "/* Parallel-specific style estimator block */\n",
       "\n",
       "#sk-container-id-5 div.sk-parallel-item::after {\n",
       "  content: \"\";\n",
       "  width: 100%;\n",
       "  border-bottom: 2px solid var(--sklearn-color-text-on-default-background);\n",
       "  flex-grow: 1;\n",
       "}\n",
       "\n",
       "#sk-container-id-5 div.sk-parallel {\n",
       "  display: flex;\n",
       "  align-items: stretch;\n",
       "  justify-content: center;\n",
       "  background-color: var(--sklearn-color-background);\n",
       "  position: relative;\n",
       "}\n",
       "\n",
       "#sk-container-id-5 div.sk-parallel-item {\n",
       "  display: flex;\n",
       "  flex-direction: column;\n",
       "}\n",
       "\n",
       "#sk-container-id-5 div.sk-parallel-item:first-child::after {\n",
       "  align-self: flex-end;\n",
       "  width: 50%;\n",
       "}\n",
       "\n",
       "#sk-container-id-5 div.sk-parallel-item:last-child::after {\n",
       "  align-self: flex-start;\n",
       "  width: 50%;\n",
       "}\n",
       "\n",
       "#sk-container-id-5 div.sk-parallel-item:only-child::after {\n",
       "  width: 0;\n",
       "}\n",
       "\n",
       "/* Serial-specific style estimator block */\n",
       "\n",
       "#sk-container-id-5 div.sk-serial {\n",
       "  display: flex;\n",
       "  flex-direction: column;\n",
       "  align-items: center;\n",
       "  background-color: var(--sklearn-color-background);\n",
       "  padding-right: 1em;\n",
       "  padding-left: 1em;\n",
       "}\n",
       "\n",
       "\n",
       "/* Toggleable style: style used for estimator/Pipeline/ColumnTransformer box that is\n",
       "clickable and can be expanded/collapsed.\n",
       "- Pipeline and ColumnTransformer use this feature and define the default style\n",
       "- Estimators will overwrite some part of the style using the `sk-estimator` class\n",
       "*/\n",
       "\n",
       "/* Pipeline and ColumnTransformer style (default) */\n",
       "\n",
       "#sk-container-id-5 div.sk-toggleable {\n",
       "  /* Default theme specific background. It is overwritten whether we have a\n",
       "  specific estimator or a Pipeline/ColumnTransformer */\n",
       "  background-color: var(--sklearn-color-background);\n",
       "}\n",
       "\n",
       "/* Toggleable label */\n",
       "#sk-container-id-5 label.sk-toggleable__label {\n",
       "  cursor: pointer;\n",
       "  display: flex;\n",
       "  width: 100%;\n",
       "  margin-bottom: 0;\n",
       "  padding: 0.5em;\n",
       "  box-sizing: border-box;\n",
       "  text-align: center;\n",
       "  align-items: start;\n",
       "  justify-content: space-between;\n",
       "  gap: 0.5em;\n",
       "}\n",
       "\n",
       "#sk-container-id-5 label.sk-toggleable__label .caption {\n",
       "  font-size: 0.6rem;\n",
       "  font-weight: lighter;\n",
       "  color: var(--sklearn-color-text-muted);\n",
       "}\n",
       "\n",
       "#sk-container-id-5 label.sk-toggleable__label-arrow:before {\n",
       "  /* Arrow on the left of the label */\n",
       "  content: \"▸\";\n",
       "  float: left;\n",
       "  margin-right: 0.25em;\n",
       "  color: var(--sklearn-color-icon);\n",
       "}\n",
       "\n",
       "#sk-container-id-5 label.sk-toggleable__label-arrow:hover:before {\n",
       "  color: var(--sklearn-color-text);\n",
       "}\n",
       "\n",
       "/* Toggleable content - dropdown */\n",
       "\n",
       "#sk-container-id-5 div.sk-toggleable__content {\n",
       "  max-height: 0;\n",
       "  max-width: 0;\n",
       "  overflow: hidden;\n",
       "  text-align: left;\n",
       "  /* unfitted */\n",
       "  background-color: var(--sklearn-color-unfitted-level-0);\n",
       "}\n",
       "\n",
       "#sk-container-id-5 div.sk-toggleable__content.fitted {\n",
       "  /* fitted */\n",
       "  background-color: var(--sklearn-color-fitted-level-0);\n",
       "}\n",
       "\n",
       "#sk-container-id-5 div.sk-toggleable__content pre {\n",
       "  margin: 0.2em;\n",
       "  border-radius: 0.25em;\n",
       "  color: var(--sklearn-color-text);\n",
       "  /* unfitted */\n",
       "  background-color: var(--sklearn-color-unfitted-level-0);\n",
       "}\n",
       "\n",
       "#sk-container-id-5 div.sk-toggleable__content.fitted pre {\n",
       "  /* unfitted */\n",
       "  background-color: var(--sklearn-color-fitted-level-0);\n",
       "}\n",
       "\n",
       "#sk-container-id-5 input.sk-toggleable__control:checked~div.sk-toggleable__content {\n",
       "  /* Expand drop-down */\n",
       "  max-height: 200px;\n",
       "  max-width: 100%;\n",
       "  overflow: auto;\n",
       "}\n",
       "\n",
       "#sk-container-id-5 input.sk-toggleable__control:checked~label.sk-toggleable__label-arrow:before {\n",
       "  content: \"▾\";\n",
       "}\n",
       "\n",
       "/* Pipeline/ColumnTransformer-specific style */\n",
       "\n",
       "#sk-container-id-5 div.sk-label input.sk-toggleable__control:checked~label.sk-toggleable__label {\n",
       "  color: var(--sklearn-color-text);\n",
       "  background-color: var(--sklearn-color-unfitted-level-2);\n",
       "}\n",
       "\n",
       "#sk-container-id-5 div.sk-label.fitted input.sk-toggleable__control:checked~label.sk-toggleable__label {\n",
       "  background-color: var(--sklearn-color-fitted-level-2);\n",
       "}\n",
       "\n",
       "/* Estimator-specific style */\n",
       "\n",
       "/* Colorize estimator box */\n",
       "#sk-container-id-5 div.sk-estimator input.sk-toggleable__control:checked~label.sk-toggleable__label {\n",
       "  /* unfitted */\n",
       "  background-color: var(--sklearn-color-unfitted-level-2);\n",
       "}\n",
       "\n",
       "#sk-container-id-5 div.sk-estimator.fitted input.sk-toggleable__control:checked~label.sk-toggleable__label {\n",
       "  /* fitted */\n",
       "  background-color: var(--sklearn-color-fitted-level-2);\n",
       "}\n",
       "\n",
       "#sk-container-id-5 div.sk-label label.sk-toggleable__label,\n",
       "#sk-container-id-5 div.sk-label label {\n",
       "  /* The background is the default theme color */\n",
       "  color: var(--sklearn-color-text-on-default-background);\n",
       "}\n",
       "\n",
       "/* On hover, darken the color of the background */\n",
       "#sk-container-id-5 div.sk-label:hover label.sk-toggleable__label {\n",
       "  color: var(--sklearn-color-text);\n",
       "  background-color: var(--sklearn-color-unfitted-level-2);\n",
       "}\n",
       "\n",
       "/* Label box, darken color on hover, fitted */\n",
       "#sk-container-id-5 div.sk-label.fitted:hover label.sk-toggleable__label.fitted {\n",
       "  color: var(--sklearn-color-text);\n",
       "  background-color: var(--sklearn-color-fitted-level-2);\n",
       "}\n",
       "\n",
       "/* Estimator label */\n",
       "\n",
       "#sk-container-id-5 div.sk-label label {\n",
       "  font-family: monospace;\n",
       "  font-weight: bold;\n",
       "  display: inline-block;\n",
       "  line-height: 1.2em;\n",
       "}\n",
       "\n",
       "#sk-container-id-5 div.sk-label-container {\n",
       "  text-align: center;\n",
       "}\n",
       "\n",
       "/* Estimator-specific */\n",
       "#sk-container-id-5 div.sk-estimator {\n",
       "  font-family: monospace;\n",
       "  border: 1px dotted var(--sklearn-color-border-box);\n",
       "  border-radius: 0.25em;\n",
       "  box-sizing: border-box;\n",
       "  margin-bottom: 0.5em;\n",
       "  /* unfitted */\n",
       "  background-color: var(--sklearn-color-unfitted-level-0);\n",
       "}\n",
       "\n",
       "#sk-container-id-5 div.sk-estimator.fitted {\n",
       "  /* fitted */\n",
       "  background-color: var(--sklearn-color-fitted-level-0);\n",
       "}\n",
       "\n",
       "/* on hover */\n",
       "#sk-container-id-5 div.sk-estimator:hover {\n",
       "  /* unfitted */\n",
       "  background-color: var(--sklearn-color-unfitted-level-2);\n",
       "}\n",
       "\n",
       "#sk-container-id-5 div.sk-estimator.fitted:hover {\n",
       "  /* fitted */\n",
       "  background-color: var(--sklearn-color-fitted-level-2);\n",
       "}\n",
       "\n",
       "/* Specification for estimator info (e.g. \"i\" and \"?\") */\n",
       "\n",
       "/* Common style for \"i\" and \"?\" */\n",
       "\n",
       ".sk-estimator-doc-link,\n",
       "a:link.sk-estimator-doc-link,\n",
       "a:visited.sk-estimator-doc-link {\n",
       "  float: right;\n",
       "  font-size: smaller;\n",
       "  line-height: 1em;\n",
       "  font-family: monospace;\n",
       "  background-color: var(--sklearn-color-background);\n",
       "  border-radius: 1em;\n",
       "  height: 1em;\n",
       "  width: 1em;\n",
       "  text-decoration: none !important;\n",
       "  margin-left: 0.5em;\n",
       "  text-align: center;\n",
       "  /* unfitted */\n",
       "  border: var(--sklearn-color-unfitted-level-1) 1pt solid;\n",
       "  color: var(--sklearn-color-unfitted-level-1);\n",
       "}\n",
       "\n",
       ".sk-estimator-doc-link.fitted,\n",
       "a:link.sk-estimator-doc-link.fitted,\n",
       "a:visited.sk-estimator-doc-link.fitted {\n",
       "  /* fitted */\n",
       "  border: var(--sklearn-color-fitted-level-1) 1pt solid;\n",
       "  color: var(--sklearn-color-fitted-level-1);\n",
       "}\n",
       "\n",
       "/* On hover */\n",
       "div.sk-estimator:hover .sk-estimator-doc-link:hover,\n",
       ".sk-estimator-doc-link:hover,\n",
       "div.sk-label-container:hover .sk-estimator-doc-link:hover,\n",
       ".sk-estimator-doc-link:hover {\n",
       "  /* unfitted */\n",
       "  background-color: var(--sklearn-color-unfitted-level-3);\n",
       "  color: var(--sklearn-color-background);\n",
       "  text-decoration: none;\n",
       "}\n",
       "\n",
       "div.sk-estimator.fitted:hover .sk-estimator-doc-link.fitted:hover,\n",
       ".sk-estimator-doc-link.fitted:hover,\n",
       "div.sk-label-container:hover .sk-estimator-doc-link.fitted:hover,\n",
       ".sk-estimator-doc-link.fitted:hover {\n",
       "  /* fitted */\n",
       "  background-color: var(--sklearn-color-fitted-level-3);\n",
       "  color: var(--sklearn-color-background);\n",
       "  text-decoration: none;\n",
       "}\n",
       "\n",
       "/* Span, style for the box shown on hovering the info icon */\n",
       ".sk-estimator-doc-link span {\n",
       "  display: none;\n",
       "  z-index: 9999;\n",
       "  position: relative;\n",
       "  font-weight: normal;\n",
       "  right: .2ex;\n",
       "  padding: .5ex;\n",
       "  margin: .5ex;\n",
       "  width: min-content;\n",
       "  min-width: 20ex;\n",
       "  max-width: 50ex;\n",
       "  color: var(--sklearn-color-text);\n",
       "  box-shadow: 2pt 2pt 4pt #999;\n",
       "  /* unfitted */\n",
       "  background: var(--sklearn-color-unfitted-level-0);\n",
       "  border: .5pt solid var(--sklearn-color-unfitted-level-3);\n",
       "}\n",
       "\n",
       ".sk-estimator-doc-link.fitted span {\n",
       "  /* fitted */\n",
       "  background: var(--sklearn-color-fitted-level-0);\n",
       "  border: var(--sklearn-color-fitted-level-3);\n",
       "}\n",
       "\n",
       ".sk-estimator-doc-link:hover span {\n",
       "  display: block;\n",
       "}\n",
       "\n",
       "/* \"?\"-specific style due to the `<a>` HTML tag */\n",
       "\n",
       "#sk-container-id-5 a.estimator_doc_link {\n",
       "  float: right;\n",
       "  font-size: 1rem;\n",
       "  line-height: 1em;\n",
       "  font-family: monospace;\n",
       "  background-color: var(--sklearn-color-background);\n",
       "  border-radius: 1rem;\n",
       "  height: 1rem;\n",
       "  width: 1rem;\n",
       "  text-decoration: none;\n",
       "  /* unfitted */\n",
       "  color: var(--sklearn-color-unfitted-level-1);\n",
       "  border: var(--sklearn-color-unfitted-level-1) 1pt solid;\n",
       "}\n",
       "\n",
       "#sk-container-id-5 a.estimator_doc_link.fitted {\n",
       "  /* fitted */\n",
       "  border: var(--sklearn-color-fitted-level-1) 1pt solid;\n",
       "  color: var(--sklearn-color-fitted-level-1);\n",
       "}\n",
       "\n",
       "/* On hover */\n",
       "#sk-container-id-5 a.estimator_doc_link:hover {\n",
       "  /* unfitted */\n",
       "  background-color: var(--sklearn-color-unfitted-level-3);\n",
       "  color: var(--sklearn-color-background);\n",
       "  text-decoration: none;\n",
       "}\n",
       "\n",
       "#sk-container-id-5 a.estimator_doc_link.fitted:hover {\n",
       "  /* fitted */\n",
       "  background-color: var(--sklearn-color-fitted-level-3);\n",
       "}\n",
       "</style><div id=\"sk-container-id-5\" class=\"sk-top-container\"><div class=\"sk-text-repr-fallback\"><pre>HistGradientBoostingClassifier(random_state=42)</pre><b>In a Jupyter environment, please rerun this cell to show the HTML representation or trust the notebook. <br />On GitHub, the HTML representation is unable to render, please try loading this page with nbviewer.org.</b></div><div class=\"sk-container\" hidden><div class=\"sk-item\"><div class=\"sk-estimator fitted sk-toggleable\"><input class=\"sk-toggleable__control sk-hidden--visually\" id=\"sk-estimator-id-5\" type=\"checkbox\" checked><label for=\"sk-estimator-id-5\" class=\"sk-toggleable__label fitted sk-toggleable__label-arrow\"><div><div>HistGradientBoostingClassifier</div></div><div><a class=\"sk-estimator-doc-link fitted\" rel=\"noreferrer\" target=\"_blank\" href=\"https://scikit-learn.org/1.6/modules/generated/sklearn.ensemble.HistGradientBoostingClassifier.html\">?<span>Documentation for HistGradientBoostingClassifier</span></a><span class=\"sk-estimator-doc-link fitted\">i<span>Fitted</span></span></div></label><div class=\"sk-toggleable__content fitted\"><pre>HistGradientBoostingClassifier(random_state=42)</pre></div> </div></div></div></div>"
      ],
      "text/plain": [
       "HistGradientBoostingClassifier(random_state=42)"
      ]
     },
     "execution_count": 84,
     "metadata": {},
     "output_type": "execute_result"
    }
   ],
   "source": [
    "# Model Training\n",
    "clf.fit(X_train, y_train)"
   ]
  },
  {
   "cell_type": "markdown",
   "id": "6aa01faa-83e2-43eb-882d-fe9a2114655c",
   "metadata": {},
   "source": [
    "## Evaluate Performance on Validation Sample ##"
   ]
  },
  {
   "cell_type": "code",
   "execution_count": 85,
   "id": "9e1441f8-dd31-4dfb-b039-3c6e7c5c5c79",
   "metadata": {},
   "outputs": [],
   "source": [
    "# prediction on validation set\n",
    "X_val = X_val[X_train.columns]\n",
    "y_pred_val = clf.predict(X_val)"
   ]
  },
  {
   "cell_type": "code",
   "execution_count": 86,
   "id": "491d93cf-fbd0-4e9e-a519-6eaa65835fb6",
   "metadata": {},
   "outputs": [
    {
     "name": "stdout",
     "output_type": "stream",
     "text": [
      "\n",
      "--- Validation Set Performance ---\n",
      "              precision    recall  f1-score   support\n",
      "\n",
      "      Enzima       0.20      0.21      0.21       647\n",
      "  Estrutural       0.20      0.20      0.20       646\n",
      "      Outras       0.20      0.21      0.21       637\n",
      "   Receptora       0.18      0.18      0.18       625\n",
      "  Transporte       0.20      0.19      0.20       645\n",
      "\n",
      "    accuracy                           0.20      3200\n",
      "   macro avg       0.20      0.20      0.20      3200\n",
      "weighted avg       0.20      0.20      0.20      3200\n",
      "\n",
      "Accuracy: 0.198125\n"
     ]
    }
   ],
   "source": [
    "# compute metrics\n",
    "print(\"\\n--- Validation Set Performance ---\")\n",
    "print(classification_report(y_val, y_pred_val))\n",
    "print(\"Accuracy:\", accuracy_score(y_val, y_pred_val))"
   ]
  },
  {
   "cell_type": "code",
   "execution_count": 87,
   "id": "7737bebe-ab25-42a1-bfac-25485fd59b8d",
   "metadata": {},
   "outputs": [
    {
     "name": "stdout",
     "output_type": "stream",
     "text": [
      "\n",
      "Confusion Matrix (Validation Set):\n",
      "[[137 138 114 129 129]\n",
      " [127 129 149 119 122]\n",
      " [127 119 132 131 128]\n",
      " [155 132 119 114 105]\n",
      " [133 125 133 132 122]]\n"
     ]
    }
   ],
   "source": [
    "# Confusion Matrix\n",
    "cm = cm = confusion_matrix(y_val, y_pred_val)\n",
    "print(\"\\nConfusion Matrix (Validation Set):\")\n",
    "print(cm)"
   ]
  },
  {
   "cell_type": "code",
   "execution_count": 88,
   "id": "a0b74fe7-f419-498a-b9b9-68134ba60c9e",
   "metadata": {},
   "outputs": [],
   "source": [
    "# Function to plot confusion matrix\n",
    "def plot_confusion_matrix(cm, classes, title='Confusion Matrix', cmap=plt.cm.Blues):\n",
    "    plt.imshow(cm, interpolation='nearest', cmap=cmap)\n",
    "    plt.title(title)\n",
    "    plt.colorbar()\n",
    "    tick_marks = np.arange(len(classes))\n",
    "    plt.xticks(tick_marks, classes, rotation=45)\n",
    "    plt.yticks(tick_marks, classes)\n",
    "\n",
    "    thresh = cm.max() / 2.\n",
    "    for i, j in np.ndindex(cm.shape):\n",
    "        plt.text(j, i, format(cm[i, j], 'd'),\n",
    "                 ha=\"center\", va=\"center\",\n",
    "                 color=\"white\" if cm[i, j] > thresh else \"black\")\n",
    "    plt.tight_layout()\n",
    "    plt.ylabel(\"True label\")\n",
    "    plt.xlabel(\"Predicted label\")\n",
    "    plt.show()"
   ]
  },
  {
   "cell_type": "code",
   "execution_count": 89,
   "id": "a23431e5-9229-4dba-a626-4e06ea6b1dea",
   "metadata": {},
   "outputs": [
    {
     "data": {
      "image/png": "[encoded data removed]",
      "text/plain": [
       "<Figure size 640x480 with 2 Axes>"
      ]
     },
     "metadata": {},
     "output_type": "display_data"
    }
   ],
   "source": [
    "plot_confusion_matrix(cm, classes=train['Classe'].unique(),\n",
    "                      title='Confusion matrix')\n"
   ]
  },
  {
   "cell_type": "markdown",
   "id": "a062e29c-cea0-4e6e-90e6-65e466cad087",
   "metadata": {},
   "source": [
    "## Apply ML to the challenge test set ##\n",
    "\n",
    "* Once trained, apply the ML algorithm the the test dataset and generate the submission file.\n"
   ]
  },
  {
   "cell_type": "code",
   "execution_count": 90,
   "id": "9361b820-2ae0-4aa4-931f-fc77d54d29e6",
   "metadata": {},
   "outputs": [],
   "source": [
    "y_pred_test = clf.predict(X_test)"
   ]
  },
  {
   "cell_type": "code",
   "execution_count": 91,
   "id": "187bd1cf-ad35-4ef5-8182-a6d87f3f33c9",
   "metadata": {},
   "outputs": [
    {
     "name": "stdout",
     "output_type": "stream",
     "text": [
      "\t\t--- Test Set Predictions ---\n",
      "['Enzima' 'Receptora' 'Outras' ... 'Transporte' 'Outras' 'Estrutural']\n"
     ]
    }
   ],
   "source": [
    "print(\"\\t\\t--- Test Set Predictions ---\")\n",
    "print(y_pred_test)"
   ]
  },
  {
   "cell_type": "code",
   "execution_count": 92,
   "id": "41f6d255-4cae-4a80-a619-793ee5b7d49c",
   "metadata": {},
   "outputs": [
    {
     "name": "stdout",
     "output_type": "stream",
     "text": [
      "\t\t--- Test Set Performance ---\n",
      "\n",
      "              precision    recall  f1-score   support\n",
      "\n",
      "      Enzima       0.21      0.22      0.21       647\n",
      "  Estrutural       0.21      0.22      0.22       647\n",
      "      Outras       0.20      0.20      0.20       636\n",
      "   Receptora       0.20      0.20      0.20       625\n",
      "  Transporte       0.19      0.17      0.18       645\n",
      "\n",
      "    accuracy                           0.20      3200\n",
      "   macro avg       0.20      0.20      0.20      3200\n",
      "weighted avg       0.20      0.20      0.20      3200\n",
      "\n",
      "Test set accuracy:  0.2040625\n"
     ]
    }
   ],
   "source": [
    "# Evaluate the performance for test set\n",
    "print(\"\\t\\t--- Test Set Performance ---\\n\")\n",
    "print(classification_report(y_test, y_pred_test))\n",
    "print(\"Test set accuracy: \", accuracy_score(y_test, y_pred_test))"
   ]
  },
  {
   "cell_type": "code",
   "execution_count": 93,
   "id": "301d9bc0-56b9-4aa1-a556-2600426a83b0",
   "metadata": {},
   "outputs": [
    {
     "name": "stdout",
     "output_type": "stream",
     "text": [
      "Confusion Matrix (Test Set): \n",
      "[[141 142 135 130  99]\n",
      " [122 145 126 115 139]\n",
      " [137 119 130 136 114]\n",
      " [120 148 112 127 118]\n",
      " [146 129 147 113 110]]\n"
     ]
    }
   ],
   "source": [
    "# Confusion Matrix performance for Test set\n",
    "cm_test = confusion_matrix(y_test, y_pred_test)\n",
    "print(\"Confusion Matrix (Test Set): \")\n",
    "print(cm_test)"
   ]
  },
  {
   "cell_type": "code",
   "execution_count": 94,
   "id": "8c4eff27-7d00-4ff3-9444-884fc3987841",
   "metadata": {},
   "outputs": [
    {
     "data": {
      "image/png": "[encoded data removed]",
      "text/plain": [
       "<Figure size 640x480 with 2 Axes>"
      ]
     },
     "metadata": {},
     "output_type": "display_data"
    }
   ],
   "source": [
    "# plot confusion matrix for test set\n",
    "plot_confusion_matrix(cm_test, classes=train['Classe'].unique(),\n",
    "                      title='Confusion matrix Test') "
   ]
  },
  {
   "cell_type": "code",
   "execution_count": null,
   "id": "77a727fa-50a2-462d-b6d1-50a32bfe4b71",
   "metadata": {},
   "outputs": [],
   "source": []
  },
  {
   "cell_type": "code",
   "execution_count": null,
   "id": "b097de17-76b4-4d15-ae97-c494dc3d115c",
   "metadata": {},
   "outputs": [],
   "source": []
  }
 ],
 "metadata": {
  "kernelspec": {
   "display_name": "Python 3 (ipykernel)",
   "language": "python",
   "name": "python3"
  },
  "language_info": {
   "codemirror_mode": {
    "name": "ipython",
    "version": 3
   },
   "file_extension": ".py",
   "mimetype": "text/x-python",
   "name": "python",
   "nbconvert_exporter": "python",
   "pygments_lexer": "ipython3",
   "version": "3.10.12"
  }
 },
 "nbformat": 4,
 "nbformat_minor": 5
}
